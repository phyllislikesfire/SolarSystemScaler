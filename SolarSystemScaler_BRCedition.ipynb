{
 "cells": [
  {
   "cell_type": "code",
   "execution_count": 1,
   "metadata": {},
   "outputs": [],
   "source": [
    "import numpy as np"
   ]
  },
  {
   "cell_type": "code",
   "execution_count": 57,
   "metadata": {},
   "outputs": [],
   "source": [
    "## Define radii of planets\n",
    "## all units in KM\n",
    "sunRad = 695510.\n",
    "mercRad = 2439.7\n",
    "venRad = 6051.8\n",
    "earthRad = 6371.\n",
    "marsRad = 3389.5\n",
    "jupRad = 69911.\n",
    "satRad = 58232.\n",
    "uranRad = 25362.\n",
    "neptRad = 24622.\n",
    "moonRad =  3475 * 0.5\n",
    "radii = [sunRad, mercRad, venRad, earthRad, marsRad, jupRad, satRad, neptRad, moonRad]\n",
    "\n",
    "## Define radii of orbits (assuming circular)\n",
    "mercOrb = 57.9 * (10 ** 6)\n",
    "venOrb = 108.2 * (10 ** 6)\n",
    "earthOrb = 149.6 * (10 ** 6)\n",
    "marsOrb = 227.9 * (10 ** 6)\n",
    "jupOrb = 778.6 * (10 ** 6)\n",
    "satOrb = 1433.5 * (10 ** 6)\n",
    "uranOrb = 2872.5 * (10 ** 6)\n",
    "neptOrb = 4495.1 * (10 ** 6)\n",
    "moonOrbEarth = 0.384 * (10 ** 6)\n",
    "orbs = [mercOrb, venOrb, earthOrb, marsOrb, jupOrb, satOrb, uranOrb, neptOrb, moonOrbEarth]\n",
    "\n",
    "## Define orbital periods \n",
    "mercPer = 88.\n",
    "venPer = 224.7\n",
    "earthPer = 365.2\n",
    "marsPer = 687.\n",
    "jupPer = 4331.\n",
    "satPer = 10747.\n",
    "uranPer = 30589.\n",
    "neptPer = 59800.\n",
    "periods = [mercPer, venPer, earthPer, marsPer, jupPer, satPer, uranPer, neptPer]"
   ]
  },
  {
   "cell_type": "code",
   "execution_count": 33,
   "metadata": {},
   "outputs": [],
   "source": [
    "## Black Rock Dimensions\n",
    "BRCpentSide = 2.9 # km\n",
    "pentagonAngle = 108 # degrees \n",
    "angToRad = np.pi / 180.\n",
    "maxSolRad = (BRCpentSide / 2)  / np.tan((180 - 90 - (108. / 2))* angToRad)"
   ]
  },
  {
   "cell_type": "code",
   "execution_count": 34,
   "metadata": {},
   "outputs": [],
   "source": [
    "## calculate the conversion between BRC km and solar system km\n",
    "brcToSol = neptOrb / maxSolRad\n",
    "solToBrc = maxSolRad / neptOrb"
   ]
  },
  {
   "cell_type": "code",
   "execution_count": 41,
   "metadata": {},
   "outputs": [],
   "source": [
    "## Calculate the scales of planetary radii, diameters, and orbit radii (assuming circular approx.)\n",
    "radScales = [value * solToBrc * 100000. for value in radii] # cm\n",
    "diamScales = [value * 2 for value in radScales] # cm\n",
    "orbScales = [value * solToBrc * 1000. for value in orbs] # meters\n",
    "print(radScales)\n",
    "print(orbScales)"
   ]
  },
  {
   "cell_type": "code",
   "execution_count": 61,
   "metadata": {},
   "outputs": [],
   "source": [
    "## As a bonus, calculate the number of meters (along a curve) that the planets travel over event week\n",
    "circumOrbs = [value * 2 * np.pi for value in orbScales]# in km\n",
    "orbitalPerMerc = 88 # days\n",
    "brcWeek = 7 # days\n",
    "angTrans = [brcWeek * val1 / val2 for (val1, val2) in zip(circumOrbs, periods)]\n",
    "print(angTrans)"
   ]
  },
  {
   "cell_type": "code",
   "execution_count": null,
   "metadata": {},
   "outputs": [],
   "source": []
  }
 ],
 "metadata": {
  "kernelspec": {
   "display_name": "Python 3",
   "language": "python",
   "name": "python3"
  },
  "language_info": {
   "codemirror_mode": {
    "name": "ipython",
    "version": 3
   },
   "file_extension": ".py",
   "mimetype": "text/x-python",
   "name": "python",
   "nbconvert_exporter": "python",
   "pygments_lexer": "ipython3",
   "version": "3.7.1"
  }
 },
 "nbformat": 4,
 "nbformat_minor": 2
}
